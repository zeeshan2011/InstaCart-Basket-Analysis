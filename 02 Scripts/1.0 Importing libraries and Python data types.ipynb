{
 "cells": [
  {
   "cell_type": "markdown",
   "id": "d202087e",
   "metadata": {},
   "source": [
    "# 01. Importing libraries"
   ]
  },
  {
   "cell_type": "code",
   "execution_count": 7,
   "id": "da747d8f",
   "metadata": {},
   "outputs": [],
   "source": [
    "# importing libraries\n",
    "import pandas as pd\n",
    "import numpy as np\n",
    "import os"
   ]
  },
  {
   "cell_type": "markdown",
   "id": "b648d64b",
   "metadata": {},
   "source": [
    "# 02. Working with pandas data types"
   ]
  },
  {
   "cell_type": "code",
   "execution_count": 8,
   "id": "88f94ac9",
   "metadata": {},
   "outputs": [],
   "source": [
    "x = 40\n",
    "y = 60"
   ]
  },
  {
   "cell_type": "code",
   "execution_count": 10,
   "id": "e3068b40",
   "metadata": {},
   "outputs": [
    {
     "name": "stdout",
     "output_type": "stream",
     "text": [
      "100\n"
     ]
    }
   ],
   "source": [
    "z = x + y\n",
    "print(z)"
   ]
  },
  {
   "cell_type": "code",
   "execution_count": 11,
   "id": "e3da910a",
   "metadata": {},
   "outputs": [
    {
     "name": "stdout",
     "output_type": "stream",
     "text": [
      "100\n"
     ]
    }
   ],
   "source": [
    "a = x + x + 20\n",
    "print(z)"
   ]
  },
  {
   "cell_type": "code",
   "execution_count": 12,
   "id": "01eb27e9",
   "metadata": {},
   "outputs": [
    {
     "name": "stdout",
     "output_type": "stream",
     "text": [
      "100\n"
     ]
    }
   ],
   "source": [
    "b = 140 - x\n",
    "print(b)"
   ]
  },
  {
   "cell_type": "markdown",
   "id": "21d395ca",
   "metadata": {},
   "source": [
    "# float operations"
   ]
  },
  {
   "cell_type": "code",
   "execution_count": 13,
   "id": "b2c9045d",
   "metadata": {},
   "outputs": [],
   "source": [
    "# float operations\n",
    "c = 5.25\n",
    "d = 10.50"
   ]
  },
  {
   "cell_type": "code",
   "execution_count": 14,
   "id": "3fddd215",
   "metadata": {},
   "outputs": [
    {
     "name": "stdout",
     "output_type": "stream",
     "text": [
      "0.5\n"
     ]
    }
   ],
   "source": [
    "print(c/d)"
   ]
  },
  {
   "cell_type": "code",
   "execution_count": 15,
   "id": "1d08dbef",
   "metadata": {},
   "outputs": [
    {
     "name": "stdout",
     "output_type": "stream",
     "text": [
      "2.0\n"
     ]
    }
   ],
   "source": [
    "print(d/c)"
   ]
  },
  {
   "cell_type": "markdown",
   "id": "4ec8185f",
   "metadata": {},
   "source": [
    "# Concatenation"
   ]
  },
  {
   "cell_type": "code",
   "execution_count": 21,
   "id": "6d3fc014",
   "metadata": {},
   "outputs": [
    {
     "name": "stdout",
     "output_type": "stream",
     "text": [
      "world\n"
     ]
    }
   ],
   "source": [
    "a = 'wor'\n",
    "b = 'ld'\n",
    "print(a+b)"
   ]
  },
  {
   "cell_type": "code",
   "execution_count": 18,
   "id": "3f935337",
   "metadata": {},
   "outputs": [],
   "source": [
    "# concatinating two word strings\n",
    "a = 'Hello, '\n",
    "b = 'World!'"
   ]
  },
  {
   "cell_type": "code",
   "execution_count": 19,
   "id": "4ba5413e",
   "metadata": {},
   "outputs": [
    {
     "name": "stdout",
     "output_type": "stream",
     "text": [
      "Hello, World!\n"
     ]
    }
   ],
   "source": [
    "print(a+b)"
   ]
  },
  {
   "cell_type": "code",
   "execution_count": 20,
   "id": "f685a661",
   "metadata": {},
   "outputs": [
    {
     "name": "stdout",
     "output_type": "stream",
     "text": [
      "importing libraries and Python data types\n"
     ]
    }
   ],
   "source": [
    "a = 'importing libraries '\n",
    "b = 'and Python data types'\n",
    "print(a+b)"
   ]
  },
  {
   "cell_type": "code",
   "execution_count": null,
   "id": "f30295c5",
   "metadata": {},
   "outputs": [],
   "source": []
  }
 ],
 "metadata": {
  "kernelspec": {
   "display_name": "Python 3 (ipykernel)",
   "language": "python",
   "name": "python3"
  },
  "language_info": {
   "codemirror_mode": {
    "name": "ipython",
    "version": 3
   },
   "file_extension": ".py",
   "mimetype": "text/x-python",
   "name": "python",
   "nbconvert_exporter": "python",
   "pygments_lexer": "ipython3",
   "version": "3.11.4"
  }
 },
 "nbformat": 4,
 "nbformat_minor": 5
}
