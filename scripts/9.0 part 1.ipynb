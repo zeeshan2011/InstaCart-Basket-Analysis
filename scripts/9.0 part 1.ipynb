{
 "cells": [
  {
   "cell_type": "markdown",
   "id": "ee1109e5",
   "metadata": {},
   "source": [
    "# 4.10 Instacart Final Task\n",
    "\n",
    "## Contents\n",
    "\n",
    "### Importing Libraries and Dataframes\n",
    "### Create regional segmentation of data\n",
    "### Determine whether there’s a difference in spending habits between the different U.S. regions\n",
    "### Create an exclusion flag for low-activity customers\n",
    "### Exporting the data set"
   ]
  },
  {
   "cell_type": "code",
   "execution_count": 1,
   "id": "793d30bd",
   "metadata": {},
   "outputs": [],
   "source": [
    "# import Libraries\n",
    "import pandas as pd\n",
    "import numpy as np\n",
    "import os\n",
    "import matplotlib.pyplot as plt\n",
    "import seaborn as sns\n",
    "import scipy"
   ]
  },
  {
   "cell_type": "code",
   "execution_count": 2,
   "id": "a88a2014",
   "metadata": {},
   "outputs": [],
   "source": [
    "# creating a path to load data fames to python \n",
    "path = r\"C:\\Users\\pshan\\Downloads\\InstaCart Basket Analysis\""
   ]
  },
  {
   "cell_type": "code",
   "execution_count": 4,
   "id": "8bfb8e58",
   "metadata": {},
   "outputs": [],
   "source": [
    "ords_prods_custs  = pd.read_pickle(os.path.join(path, '02 Data', 'Prepared Data', 'custs_ords_prods.pkl'))"
   ]
  },
  {
   "cell_type": "code",
   "execution_count": 6,
   "id": "5805cc2e",
   "metadata": {},
   "outputs": [
    {
     "data": {
      "text/plain": [
       "(32404859, 32)"
      ]
     },
     "execution_count": 6,
     "metadata": {},
     "output_type": "execute_result"
    }
   ],
   "source": [
    "ords_prods_custs.shape"
   ]
  },
  {
   "cell_type": "code",
   "execution_count": 7,
   "id": "30f9d279",
   "metadata": {},
   "outputs": [],
   "source": [
    "\n",
    "# Assign regions using .loc\n",
    "ords_prods_custs.loc[ords_prods_custs['state'].isin([\n",
    "    'Maine', 'New Hampshire', 'Vermont', 'Massachusetts', 'Rhode Island', \n",
    "    'Connecticut', 'New York', 'Pennsylvania', 'New Jersey'\n",
    "]), 'region'] = 'Northeast'\n",
    "\n",
    "ords_prods_custs.loc[ords_prods_custs['state'].isin([\n",
    "    'Wisconsin', 'Michigan', 'Illinois', 'Indiana', 'Ohio', 'North Dakota', \n",
    "    'South Dakota', 'Nebraska', 'Kansas', 'Minnesota', 'Iowa', 'Missouri'\n",
    "]), 'region'] = 'Midwest'\n",
    "\n",
    "ords_prods_custs.loc[ords_prods_custs['state'].isin([\n",
    "    'Delaware', 'Maryland', 'District of Columbia', 'Virginia', 'West Virginia', \n",
    "    'North Carolina', 'South Carolina', 'Georgia', 'Florida', 'Kentucky', \n",
    "    'Tennessee', 'Mississippi', 'Alabama', 'Oklahoma', 'Texas', 'Arkansas', \n",
    "    'Louisiana'\n",
    "]), 'region'] = 'South'\n",
    "\n",
    "ords_prods_custs.loc[ords_prods_custs['state'].isin([\n",
    "    'Idaho', 'Montana', 'Wyoming', 'Nevada', 'Utah', 'Colorado', \n",
    "    'Arizona', 'New Mexico', 'Alaska', 'Washington', 'Oregon', \n",
    "    'California', 'Hawaii'\n",
    "]), 'region'] = 'West'\n",
    "\n"
   ]
  },
  {
   "cell_type": "code",
   "execution_count": 8,
   "id": "d80e3ac8",
   "metadata": {},
   "outputs": [
    {
     "data": {
      "text/html": [
       "<div>\n",
       "<style scoped>\n",
       "    .dataframe tbody tr th:only-of-type {\n",
       "        vertical-align: middle;\n",
       "    }\n",
       "\n",
       "    .dataframe tbody tr th {\n",
       "        vertical-align: top;\n",
       "    }\n",
       "\n",
       "    .dataframe thead th {\n",
       "        text-align: right;\n",
       "    }\n",
       "</style>\n",
       "<table border=\"1\" class=\"dataframe\">\n",
       "  <thead>\n",
       "    <tr style=\"text-align: right;\">\n",
       "      <th></th>\n",
       "      <th>state</th>\n",
       "      <th>region</th>\n",
       "    </tr>\n",
       "  </thead>\n",
       "  <tbody>\n",
       "    <tr>\n",
       "      <th>32404839</th>\n",
       "      <td>Hawaii</td>\n",
       "      <td>West</td>\n",
       "    </tr>\n",
       "    <tr>\n",
       "      <th>32404840</th>\n",
       "      <td>Hawaii</td>\n",
       "      <td>West</td>\n",
       "    </tr>\n",
       "    <tr>\n",
       "      <th>32404841</th>\n",
       "      <td>Hawaii</td>\n",
       "      <td>West</td>\n",
       "    </tr>\n",
       "    <tr>\n",
       "      <th>32404842</th>\n",
       "      <td>Hawaii</td>\n",
       "      <td>West</td>\n",
       "    </tr>\n",
       "    <tr>\n",
       "      <th>32404843</th>\n",
       "      <td>Hawaii</td>\n",
       "      <td>West</td>\n",
       "    </tr>\n",
       "    <tr>\n",
       "      <th>32404844</th>\n",
       "      <td>Hawaii</td>\n",
       "      <td>West</td>\n",
       "    </tr>\n",
       "    <tr>\n",
       "      <th>32404845</th>\n",
       "      <td>Hawaii</td>\n",
       "      <td>West</td>\n",
       "    </tr>\n",
       "    <tr>\n",
       "      <th>32404846</th>\n",
       "      <td>Hawaii</td>\n",
       "      <td>West</td>\n",
       "    </tr>\n",
       "    <tr>\n",
       "      <th>32404847</th>\n",
       "      <td>Hawaii</td>\n",
       "      <td>West</td>\n",
       "    </tr>\n",
       "    <tr>\n",
       "      <th>32404848</th>\n",
       "      <td>Hawaii</td>\n",
       "      <td>West</td>\n",
       "    </tr>\n",
       "    <tr>\n",
       "      <th>32404849</th>\n",
       "      <td>Hawaii</td>\n",
       "      <td>West</td>\n",
       "    </tr>\n",
       "    <tr>\n",
       "      <th>32404850</th>\n",
       "      <td>Hawaii</td>\n",
       "      <td>West</td>\n",
       "    </tr>\n",
       "    <tr>\n",
       "      <th>32404851</th>\n",
       "      <td>Hawaii</td>\n",
       "      <td>West</td>\n",
       "    </tr>\n",
       "    <tr>\n",
       "      <th>32404852</th>\n",
       "      <td>Hawaii</td>\n",
       "      <td>West</td>\n",
       "    </tr>\n",
       "    <tr>\n",
       "      <th>32404853</th>\n",
       "      <td>Hawaii</td>\n",
       "      <td>West</td>\n",
       "    </tr>\n",
       "    <tr>\n",
       "      <th>32404854</th>\n",
       "      <td>Hawaii</td>\n",
       "      <td>West</td>\n",
       "    </tr>\n",
       "    <tr>\n",
       "      <th>32404855</th>\n",
       "      <td>Tennessee</td>\n",
       "      <td>South</td>\n",
       "    </tr>\n",
       "    <tr>\n",
       "      <th>32404856</th>\n",
       "      <td>Tennessee</td>\n",
       "      <td>South</td>\n",
       "    </tr>\n",
       "    <tr>\n",
       "      <th>32404857</th>\n",
       "      <td>Tennessee</td>\n",
       "      <td>South</td>\n",
       "    </tr>\n",
       "    <tr>\n",
       "      <th>32404858</th>\n",
       "      <td>Tennessee</td>\n",
       "      <td>South</td>\n",
       "    </tr>\n",
       "  </tbody>\n",
       "</table>\n",
       "</div>"
      ],
      "text/plain": [
       "              state region\n",
       "32404839     Hawaii   West\n",
       "32404840     Hawaii   West\n",
       "32404841     Hawaii   West\n",
       "32404842     Hawaii   West\n",
       "32404843     Hawaii   West\n",
       "32404844     Hawaii   West\n",
       "32404845     Hawaii   West\n",
       "32404846     Hawaii   West\n",
       "32404847     Hawaii   West\n",
       "32404848     Hawaii   West\n",
       "32404849     Hawaii   West\n",
       "32404850     Hawaii   West\n",
       "32404851     Hawaii   West\n",
       "32404852     Hawaii   West\n",
       "32404853     Hawaii   West\n",
       "32404854     Hawaii   West\n",
       "32404855  Tennessee  South\n",
       "32404856  Tennessee  South\n",
       "32404857  Tennessee  South\n",
       "32404858  Tennessee  South"
      ]
     },
     "execution_count": 8,
     "metadata": {},
     "output_type": "execute_result"
    }
   ],
   "source": [
    "# to verify the results\n",
    "ords_prods_custs[['state','region']].tail(20)"
   ]
  },
  {
   "cell_type": "markdown",
   "id": "deb66b9b",
   "metadata": {},
   "source": [
    "### Determine whether there’s a difference in spending habits between the different U.S. regions"
   ]
  },
  {
   "cell_type": "code",
   "execution_count": 16,
   "id": "b6c0b8c1",
   "metadata": {},
   "outputs": [],
   "source": [
    "# Crosstab Region to spending flag\n",
    "crosstab = pd.crosstab(ords_prods_custs['region'], ords_prods_custs['income'], dropna = False)"
   ]
  },
  {
   "cell_type": "code",
   "execution_count": 17,
   "id": "1e6c3e74",
   "metadata": {},
   "outputs": [],
   "source": [
    "crosstab.to_clipboard()"
   ]
  },
  {
   "cell_type": "code",
   "execution_count": null,
   "id": "2012076b",
   "metadata": {},
   "outputs": [],
   "source": []
  },
  {
   "cell_type": "markdown",
   "id": "f635b2d0",
   "metadata": {},
   "source": [
    "###  Creating an exclusion flag for low-activity customers (customers with less than 5 orders) "
   ]
  },
  {
   "cell_type": "code",
   "execution_count": 9,
   "id": "fdaee531",
   "metadata": {},
   "outputs": [],
   "source": [
    "# Create a flag for customers with less than 5 orders\n",
    "ords_prods_custs.loc[ords_prods_custs['max_order'] < 5, 'activity_flag'] = 'low-activity customer'\n",
    "ords_prods_custs.loc[ords_prods_custs['max_order'] >= 5, 'activity_flag'] = 'high-activity customer'"
   ]
  },
  {
   "cell_type": "code",
   "execution_count": 10,
   "id": "2a6a18f6",
   "metadata": {
    "scrolled": true
   },
   "outputs": [
    {
     "data": {
      "text/plain": [
       "activity_flag\n",
       "high-activity customer    30964564\n",
       "low-activity customer      1440295\n",
       "Name: count, dtype: int64"
      ]
     },
     "execution_count": 10,
     "metadata": {},
     "output_type": "execute_result"
    }
   ],
   "source": [
    "# verifying\n",
    "ords_prods_custs['activity_flag'].value_counts(dropna = False)"
   ]
  },
  {
   "cell_type": "code",
   "execution_count": 15,
   "id": "9729ebe8",
   "metadata": {},
   "outputs": [],
   "source": [
    "# exporting the data frame\n",
    "ords_prods_custs.to_pickle(os.path.join(path, '02 Data','Prepared Data', 'ords_prods_custs_1.pkl'))"
   ]
  },
  {
   "cell_type": "code",
   "execution_count": 16,
   "id": "16d22efe",
   "metadata": {},
   "outputs": [],
   "source": [
    "# Exclude low-activity customers from the dataframe\n",
    "ords_prods_custs_excluded = ords_prods_custs[ords_prods_custs['activity_flag'] != 'low-activity customer']"
   ]
  },
  {
   "cell_type": "code",
   "execution_count": 17,
   "id": "957966ea",
   "metadata": {},
   "outputs": [],
   "source": [
    "# Exporting the new dataframe\n",
    "ords_prods_custs_excluded.to_pickle(os.path.join(path, '02 Data','Prepared Data', 'ords_prods_custs_excluded.pkl'))"
   ]
  }
 ],
 "metadata": {
  "kernelspec": {
   "display_name": "Python 3 (ipykernel)",
   "language": "python",
   "name": "python3"
  },
  "language_info": {
   "codemirror_mode": {
    "name": "ipython",
    "version": 3
   },
   "file_extension": ".py",
   "mimetype": "text/x-python",
   "name": "python",
   "nbconvert_exporter": "python",
   "pygments_lexer": "ipython3",
   "version": "3.11.4"
  }
 },
 "nbformat": 4,
 "nbformat_minor": 5
}
